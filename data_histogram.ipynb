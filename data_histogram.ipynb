{
 "cells": [
  {
   "cell_type": "code",
   "execution_count": 1,
   "id": "56e5e1a5",
   "metadata": {},
   "outputs": [],
   "source": [
    "import numpy as np"
   ]
  },
  {
   "cell_type": "code",
   "execution_count": 33,
   "id": "68f95ed5",
   "metadata": {},
   "outputs": [],
   "source": [
    "import pandas as pd"
   ]
  },
  {
   "cell_type": "code",
   "execution_count": 22,
   "id": "7f21ec18",
   "metadata": {},
   "outputs": [],
   "source": [
    "import matplotlib.pyplot as plt"
   ]
  },
  {
   "cell_type": "code",
   "execution_count": 45,
   "id": "7802e97c",
   "metadata": {},
   "outputs": [],
   "source": [
    "import math"
   ]
  },
  {
   "cell_type": "code",
   "execution_count": 30,
   "id": "6502f175",
   "metadata": {},
   "outputs": [],
   "source": [
    "from sklearn import datasets\n",
    "iris=datasets.load_iris()"
   ]
  },
  {
   "cell_type": "code",
   "execution_count": 101,
   "id": "78c42744",
   "metadata": {},
   "outputs": [
    {
     "data": {
      "text/html": [
       "<div>\n",
       "<style scoped>\n",
       "    .dataframe tbody tr th:only-of-type {\n",
       "        vertical-align: middle;\n",
       "    }\n",
       "\n",
       "    .dataframe tbody tr th {\n",
       "        vertical-align: top;\n",
       "    }\n",
       "\n",
       "    .dataframe thead th {\n",
       "        text-align: right;\n",
       "    }\n",
       "</style>\n",
       "<table border=\"1\" class=\"dataframe\">\n",
       "  <thead>\n",
       "    <tr style=\"text-align: right;\">\n",
       "      <th></th>\n",
       "      <th>s_len</th>\n",
       "      <th>s_wid</th>\n",
       "      <th>p_len</th>\n",
       "      <th>p_wid</th>\n",
       "      <th>class</th>\n",
       "    </tr>\n",
       "  </thead>\n",
       "  <tbody>\n",
       "    <tr>\n",
       "      <th>0</th>\n",
       "      <td>5.1</td>\n",
       "      <td>3.5</td>\n",
       "      <td>1.4</td>\n",
       "      <td>0.2</td>\n",
       "      <td>Iris-setosa</td>\n",
       "    </tr>\n",
       "    <tr>\n",
       "      <th>1</th>\n",
       "      <td>4.9</td>\n",
       "      <td>3.0</td>\n",
       "      <td>1.4</td>\n",
       "      <td>0.2</td>\n",
       "      <td>Iris-setosa</td>\n",
       "    </tr>\n",
       "    <tr>\n",
       "      <th>2</th>\n",
       "      <td>4.7</td>\n",
       "      <td>3.2</td>\n",
       "      <td>1.3</td>\n",
       "      <td>0.2</td>\n",
       "      <td>Iris-setosa</td>\n",
       "    </tr>\n",
       "    <tr>\n",
       "      <th>3</th>\n",
       "      <td>4.6</td>\n",
       "      <td>3.1</td>\n",
       "      <td>1.5</td>\n",
       "      <td>0.2</td>\n",
       "      <td>Iris-setosa</td>\n",
       "    </tr>\n",
       "    <tr>\n",
       "      <th>4</th>\n",
       "      <td>5.0</td>\n",
       "      <td>3.6</td>\n",
       "      <td>1.4</td>\n",
       "      <td>0.2</td>\n",
       "      <td>Iris-setosa</td>\n",
       "    </tr>\n",
       "  </tbody>\n",
       "</table>\n",
       "</div>"
      ],
      "text/plain": [
       "   s_len  s_wid  p_len  p_wid        class\n",
       "0    5.1    3.5    1.4    0.2  Iris-setosa\n",
       "1    4.9    3.0    1.4    0.2  Iris-setosa\n",
       "2    4.7    3.2    1.3    0.2  Iris-setosa\n",
       "3    4.6    3.1    1.5    0.2  Iris-setosa\n",
       "4    5.0    3.6    1.4    0.2  Iris-setosa"
      ]
     },
     "execution_count": 101,
     "metadata": {},
     "output_type": "execute_result"
    }
   ],
   "source": [
    "data_file=pd.read_csv('./iris.data',names=['s_len','s_wid','p_len','p_wid','class'])\n",
    "frame_data = pd.DataFrame(data_file)\n",
    "data_file.head()\n"
   ]
  },
  {
   "cell_type": "code",
   "execution_count": 6,
   "id": "2a78ccb2",
   "metadata": {},
   "outputs": [
    {
     "data": {
      "text/html": [
       "<div>\n",
       "<style scoped>\n",
       "    .dataframe tbody tr th:only-of-type {\n",
       "        vertical-align: middle;\n",
       "    }\n",
       "\n",
       "    .dataframe tbody tr th {\n",
       "        vertical-align: top;\n",
       "    }\n",
       "\n",
       "    .dataframe thead th {\n",
       "        text-align: right;\n",
       "    }\n",
       "</style>\n",
       "<table border=\"1\" class=\"dataframe\">\n",
       "  <thead>\n",
       "    <tr style=\"text-align: right;\">\n",
       "      <th></th>\n",
       "      <th>s_len</th>\n",
       "      <th>s_wid</th>\n",
       "      <th>p_len</th>\n",
       "      <th>p_wid</th>\n",
       "      <th>class</th>\n",
       "    </tr>\n",
       "  </thead>\n",
       "  <tbody>\n",
       "    <tr>\n",
       "      <th>0</th>\n",
       "      <td>5.1</td>\n",
       "      <td>3.5</td>\n",
       "      <td>1.4</td>\n",
       "      <td>0.2</td>\n",
       "      <td>Iris-setosa</td>\n",
       "    </tr>\n",
       "    <tr>\n",
       "      <th>1</th>\n",
       "      <td>4.9</td>\n",
       "      <td>3.0</td>\n",
       "      <td>1.4</td>\n",
       "      <td>0.2</td>\n",
       "      <td>Iris-setosa</td>\n",
       "    </tr>\n",
       "    <tr>\n",
       "      <th>2</th>\n",
       "      <td>4.7</td>\n",
       "      <td>3.2</td>\n",
       "      <td>1.3</td>\n",
       "      <td>0.2</td>\n",
       "      <td>Iris-setosa</td>\n",
       "    </tr>\n",
       "    <tr>\n",
       "      <th>3</th>\n",
       "      <td>4.6</td>\n",
       "      <td>3.1</td>\n",
       "      <td>1.5</td>\n",
       "      <td>0.2</td>\n",
       "      <td>Iris-setosa</td>\n",
       "    </tr>\n",
       "    <tr>\n",
       "      <th>4</th>\n",
       "      <td>5.0</td>\n",
       "      <td>3.6</td>\n",
       "      <td>1.4</td>\n",
       "      <td>0.2</td>\n",
       "      <td>Iris-setosa</td>\n",
       "    </tr>\n",
       "    <tr>\n",
       "      <th>...</th>\n",
       "      <td>...</td>\n",
       "      <td>...</td>\n",
       "      <td>...</td>\n",
       "      <td>...</td>\n",
       "      <td>...</td>\n",
       "    </tr>\n",
       "    <tr>\n",
       "      <th>145</th>\n",
       "      <td>6.7</td>\n",
       "      <td>3.0</td>\n",
       "      <td>5.2</td>\n",
       "      <td>2.3</td>\n",
       "      <td>Iris-virginica</td>\n",
       "    </tr>\n",
       "    <tr>\n",
       "      <th>146</th>\n",
       "      <td>6.3</td>\n",
       "      <td>2.5</td>\n",
       "      <td>5.0</td>\n",
       "      <td>1.9</td>\n",
       "      <td>Iris-virginica</td>\n",
       "    </tr>\n",
       "    <tr>\n",
       "      <th>147</th>\n",
       "      <td>6.5</td>\n",
       "      <td>3.0</td>\n",
       "      <td>5.2</td>\n",
       "      <td>2.0</td>\n",
       "      <td>Iris-virginica</td>\n",
       "    </tr>\n",
       "    <tr>\n",
       "      <th>148</th>\n",
       "      <td>6.2</td>\n",
       "      <td>3.4</td>\n",
       "      <td>5.4</td>\n",
       "      <td>2.3</td>\n",
       "      <td>Iris-virginica</td>\n",
       "    </tr>\n",
       "    <tr>\n",
       "      <th>149</th>\n",
       "      <td>5.9</td>\n",
       "      <td>3.0</td>\n",
       "      <td>5.1</td>\n",
       "      <td>1.8</td>\n",
       "      <td>Iris-virginica</td>\n",
       "    </tr>\n",
       "  </tbody>\n",
       "</table>\n",
       "<p>150 rows × 5 columns</p>\n",
       "</div>"
      ],
      "text/plain": [
       "     s_len  s_wid  p_len  p_wid           class\n",
       "0      5.1    3.5    1.4    0.2     Iris-setosa\n",
       "1      4.9    3.0    1.4    0.2     Iris-setosa\n",
       "2      4.7    3.2    1.3    0.2     Iris-setosa\n",
       "3      4.6    3.1    1.5    0.2     Iris-setosa\n",
       "4      5.0    3.6    1.4    0.2     Iris-setosa\n",
       "..     ...    ...    ...    ...             ...\n",
       "145    6.7    3.0    5.2    2.3  Iris-virginica\n",
       "146    6.3    2.5    5.0    1.9  Iris-virginica\n",
       "147    6.5    3.0    5.2    2.0  Iris-virginica\n",
       "148    6.2    3.4    5.4    2.3  Iris-virginica\n",
       "149    5.9    3.0    5.1    1.8  Iris-virginica\n",
       "\n",
       "[150 rows x 5 columns]"
      ]
     },
     "execution_count": 6,
     "metadata": {},
     "output_type": "execute_result"
    }
   ],
   "source": [
    "frame_data"
   ]
  },
  {
   "cell_type": "code",
   "execution_count": 7,
   "id": "a033dba7",
   "metadata": {},
   "outputs": [],
   "source": [
    "# 각 클래스 별로 s_len값 나눠서 히스토그램 그리기\n",
    "is_setosa=frame_data['class']=='Iris-setosa'\n",
    "is_versicolor=frame_data['class']=='Iris-versicolor'\n",
    "is_virginica=frame_data['class']=='Iris-virginica'\n"
   ]
  },
  {
   "cell_type": "code",
   "execution_count": 8,
   "id": "e5b36558",
   "metadata": {},
   "outputs": [],
   "source": [
    "seto = frame_data[is_setosa]\n",
    "ver = frame_data[is_versicolor]\n",
    "vir = frame_data[is_virginica]"
   ]
  },
  {
   "cell_type": "code",
   "execution_count": 9,
   "id": "9fff2d23",
   "metadata": {},
   "outputs": [],
   "source": [
    "slen_seto = seto[['s_len']]\n",
    "slen_ver = ver[['s_len']]\n",
    "slen_vir = vir[['s_len']]"
   ]
  },
  {
   "cell_type": "code",
   "execution_count": 26,
   "id": "25bcdce6",
   "metadata": {},
   "outputs": [],
   "source": [
    "seto_mu = slen_seto.mean()\n",
    "seto_sigma = slen_seto.std()"
   ]
  },
  {
   "cell_type": "code",
   "execution_count": 37,
   "id": "e9564e6e",
   "metadata": {},
   "outputs": [],
   "source": [
    "#iris.keys()\n",
    "#df_iris=pd.DataFrame(iris['data'],columns=iris['feature_names'])\n",
    "#df_iris.columns=['s_len','s_wid','p_len','p_wid']"
   ]
  },
  {
   "cell_type": "code",
   "execution_count": 39,
   "id": "d50552f9",
   "metadata": {},
   "outputs": [],
   "source": [
    "#df_iris['Target']=iris['target']"
   ]
  },
  {
   "cell_type": "code",
   "execution_count": 40,
   "id": "71bb128d",
   "metadata": {},
   "outputs": [
    {
     "data": {
      "text/plain": [
       "0    50\n",
       "1    50\n",
       "2    50\n",
       "Name: Target, dtype: int64"
      ]
     },
     "execution_count": 40,
     "metadata": {},
     "output_type": "execute_result"
    }
   ],
   "source": [
    "#df_iris['Target'].value_counts()"
   ]
  },
  {
   "cell_type": "code",
   "execution_count": 94,
   "id": "67d5e233",
   "metadata": {},
   "outputs": [
    {
     "data": {
      "image/png": "[encoded data removed]",
      "text/plain": [
       "<Figure size 432x288 with 1 Axes>"
      ]
     },
     "metadata": {
      "needs_background": "light"
     },
     "output_type": "display_data"
    },
    {
     "name": "stdout",
     "output_type": "stream",
     "text": [
      "Iris-Versicolour sepal_length cost:  15\n",
      "Iris-Setosa sepal_length cost:  19\n",
      "Iris-Virginica sepal_length cost:  15\n"
     ]
    }
   ],
   "source": [
    "#B question1 : row(sepal length), col(count) \n",
    "\n",
    "plt.hist(slen_seto, bins=40, range=(4,8), density=True, color='red',alpha=0.3)\n",
    "plt.hist(slen_ver, bins=40, range=(4,8), density=True, color='green',alpha=0.3)\n",
    "plt.hist(slen_vir, bins=40, range=(4,8), density=True, color='skyblue',alpha=0.3)\n",
    "plt.xlabel('sepal length')\n",
    "plt.ylabel('density')\n",
    "plt.show()\n",
    "#for i in slen_ver:\n",
    "ver_u=slen_ver.mean()\n",
    "#print(u)\n",
    "ver_sigma=math.sqrt(slen_ver.var())\n",
    "ver_pre=ver_u-ver_sigma\n",
    "ver_back=ver_u+ver_sigma\n",
    "ver_cnt=0\n",
    "\n",
    "for i in slen_ver['s_len']:\n",
    "    if (i<ver_pre).bool():\n",
    "        ver_cnt+=1\n",
    "    elif (i>ver_back).bool():\n",
    "        ver_cnt+=1\n",
    "print(\"Iris-Versicolour sepal_length cost: \", ver_cnt)\n",
    "\n",
    "seto_u=slen_seto.mean()\n",
    "seto_sigma=math.sqrt(slen_seto.var())\n",
    "seto_pre=seto_u-seto_sigma\n",
    "seto_back=seto_u+seto_sigma\n",
    "seto_cnt=0\n",
    "for i in slen_seto['s_len']:\n",
    "    if (i<seto_pre).bool():\n",
    "        seto_cnt+=1\n",
    "    elif (i>seto_back).bool():\n",
    "        seto_cnt+=1\n",
    "print(\"Iris-Setosa sepal_length cost: \", seto_cnt)\n",
    "\n",
    "\n",
    "vir_u=slen_vir.mean()\n",
    "vir_sigma=math.sqrt(slen_vir.var())\n",
    "vir_pre=vir_u-vir_sigma\n",
    "vir_back=vir_u+vir_sigma\n",
    "vir_cnt=0\n",
    "for i in slen_vir['s_len']:\n",
    "    if (i<vir_pre).bool():\n",
    "        vir_cnt+=1\n",
    "    elif (i>vir_back).bool():\n",
    "        vir_cnt+=1\n",
    "print(\"Iris-Virginica sepal_length cost: \", vir_cnt)\n"
   ]
  },
  {
   "cell_type": "code",
   "execution_count": 93,
   "id": "418ac5a8",
   "metadata": {},
   "outputs": [
    {
     "name": "stdout",
     "output_type": "stream",
     "text": [
      "Iris-Setosa sepal_length cost:  19\n",
      "Iris-Virginica sepal_length cost:  15\n"
     ]
    }
   ],
   "source": []
  },
  {
   "cell_type": "code",
   "execution_count": 97,
   "id": "622a144e",
   "metadata": {},
   "outputs": [
    {
     "name": "stdout",
     "output_type": "stream",
     "text": [
      "Iris-Setosa sepal_width cost:  18\n",
      "Iris-Versicolour sepal_width cost:  17\n",
      "Iris-Virginica sepal_width cost:  15\n"
     ]
    },
    {
     "data": {
      "image/png": "[encoded data removed]",
      "text/plain": [
       "<Figure size 432x288 with 1 Axes>"
      ]
     },
     "metadata": {
      "needs_background": "light"
     },
     "output_type": "display_data"
    }
   ],
   "source": [
    "#B question1: row(sepal width) col(count)\n",
    "swid_seto = seto[['s_wid']]\n",
    "swid_ver = ver[['s_wid']]\n",
    "swid_vir = vir[['s_wid']]\n",
    "plt.hist(swid_seto, bins=30, range=(2,5), density=True, color='red',alpha=0.3)\n",
    "plt.hist(swid_ver, bins=30, range=(2,5), density=True,color='green',alpha=0.3)\n",
    "plt.hist(swid_vir, bins=30, range=(2,5), density=True,color='skyblue',alpha=0.3)\n",
    "plt.xlabel('sepal width')\n",
    "plt.ylabel('density')\n",
    "\n",
    "#for i in slen_ver:\n",
    "seto_u=swid_seto.mean()\n",
    "#print(u)\n",
    "seto_sigma=math.sqrt(swid_seto.var())\n",
    "seto_pre=seto_u-seto_sigma\n",
    "seto_back=seto_u+seto_sigma\n",
    "seto_cnt=0\n",
    "\n",
    "for i in swid_seto['s_wid']:\n",
    "    if (i<seto_pre).bool():\n",
    "        seto_cnt+=1\n",
    "    elif (i>seto_back).bool():\n",
    "        seto_cnt+=1\n",
    "print(\"Iris-Setosa sepal_width cost: \", seto_cnt)\n",
    "\n",
    "ver_u=swid_ver.mean()\n",
    "ver_sigma=math.sqrt(swid_ver.var())\n",
    "ver_pre=ver_u-ver_sigma\n",
    "ver_back=ver_u+ver_sigma\n",
    "ver_cnt=0\n",
    "for i in swid_ver['s_wid']:\n",
    "    if (i<ver_pre).bool():\n",
    "        ver_cnt+=1\n",
    "    elif (i>ver_back).bool():\n",
    "        ver_cnt+=1\n",
    "print(\"Iris-Versicolour sepal_width cost: \", ver_cnt)\n",
    "\n",
    "\n",
    "vir_u=swid_vir.mean()\n",
    "vir_sigma=math.sqrt(swid_vir.var())\n",
    "vir_pre=vir_u-vir_sigma\n",
    "vir_back=vir_u+vir_sigma\n",
    "vir_cnt=0\n",
    "for i in swid_vir['s_wid']:\n",
    "    if (i<vir_pre).bool():\n",
    "        vir_cnt+=1\n",
    "    elif (i>vir_back).bool():\n",
    "        vir_cnt+=1\n",
    "print(\"Iris-Virginica sepal_width cost: \", vir_cnt)\n"
   ]
  },
  {
   "cell_type": "code",
   "execution_count": 98,
   "id": "4f34dab8",
   "metadata": {},
   "outputs": [
    {
     "name": "stdout",
     "output_type": "stream",
     "text": [
      "Iris-Setosa petal_length cost:  10\n",
      "Iris-Versicolour petal_length cost:  13\n",
      "Iris-Virginica petal_length cost:  15\n"
     ]
    },
    {
     "data": {
      "image/png": "[encoded data removed]",
      "text/plain": [
       "<Figure size 432x288 with 1 Axes>"
      ]
     },
     "metadata": {
      "needs_background": "light"
     },
     "output_type": "display_data"
    }
   ],
   "source": [
    "#B question1: row(petal length) col(count)\n",
    "plen_seto = seto[['p_len']]\n",
    "plen_ver = ver[['p_len']]\n",
    "plen_vir = vir[['p_len']]\n",
    "plt.hist(plen_seto, bins=60, range=(1,7), color='red',alpha=0.3)\n",
    "plt.hist(plen_ver, bins=60, range=(1,7), color='green',alpha=0.3)\n",
    "plt.hist(plen_vir, bins=60, range=(1,7), color='skyblue',alpha=0.3)\n",
    "plt.xlabel('petal length')\n",
    "plt.ylabel('density')\n",
    "\n",
    "#for i in slen_ver:\n",
    "seto_u=plen_seto.mean()\n",
    "#print(u)\n",
    "seto_sigma=math.sqrt(plen_seto.var())\n",
    "seto_pre=seto_u-seto_sigma\n",
    "seto_back=seto_u+seto_sigma\n",
    "seto_cnt=0\n",
    "\n",
    "for i in plen_seto['p_len']:\n",
    "    if (i<seto_pre).bool():\n",
    "        seto_cnt+=1\n",
    "    elif (i>seto_back).bool():\n",
    "        seto_cnt+=1\n",
    "print(\"Iris-Setosa petal_length cost: \", seto_cnt)\n",
    "\n",
    "ver_u=plen_ver.mean()\n",
    "ver_sigma=math.sqrt(plen_ver.var())\n",
    "ver_pre=ver_u-ver_sigma\n",
    "ver_back=ver_u+ver_sigma\n",
    "ver_cnt=0\n",
    "for i in plen_ver['p_len']:\n",
    "    if (i<ver_pre).bool():\n",
    "        ver_cnt+=1\n",
    "    elif (i>ver_back).bool():\n",
    "        ver_cnt+=1\n",
    "print(\"Iris-Versicolour petal_length cost: \", ver_cnt)\n",
    "\n",
    "\n",
    "vir_u=plen_vir.mean()\n",
    "vir_sigma=math.sqrt(plen_vir.var())\n",
    "vir_pre=vir_u-vir_sigma\n",
    "vir_back=vir_u+vir_sigma\n",
    "vir_cnt=0\n",
    "for i in plen_vir['p_len']:\n",
    "    if (i<vir_pre).bool():\n",
    "        vir_cnt+=1\n",
    "    elif (i>vir_back).bool():\n",
    "        vir_cnt+=1\n",
    "print(\"Iris-Virginica petal_length cost: \", vir_cnt)\n"
   ]
  },
  {
   "cell_type": "code",
   "execution_count": 99,
   "id": "54e9fd87",
   "metadata": {},
   "outputs": [
    {
     "name": "stdout",
     "output_type": "stream",
     "text": [
      "Iris-Setosa petal_width cost:  15\n",
      "Iris-Versicolour petal_width cost:  15\n",
      "Iris-Virginica petal_width cost:  11\n"
     ]
    },
    {
     "data": {
      "image/png": "[encoded data removed]",
      "text/plain": [
       "<Figure size 432x288 with 1 Axes>"
      ]
     },
     "metadata": {
      "needs_background": "light"
     },
     "output_type": "display_data"
    }
   ],
   "source": [
    "#B question1: row(petal width) col(count)\n",
    "pwid_seto = seto[['p_wid']]\n",
    "pwid_ver = ver[['p_wid']]\n",
    "pwid_vir = vir[['p_wid']]\n",
    "plt.hist(pwid_seto, bins=30,range=(0,3), density=True,color='red',alpha=0.3)\n",
    "plt.hist(pwid_ver, bins=30, range=(0,3),density=True,color='green',alpha=0.3)\n",
    "plt.hist(pwid_vir, bins=30, range=(0,3),density=True,color='skyblue',alpha=0.3)\n",
    "plt.xlabel('petal width')\n",
    "plt.ylabel('density')\n",
    "\n",
    "#for i in slen_ver:\n",
    "seto_u=pwid_seto.mean()\n",
    "#print(u)\n",
    "seto_sigma=math.sqrt(pwid_seto.var())\n",
    "seto_pre=seto_u-seto_sigma\n",
    "seto_back=seto_u+seto_sigma\n",
    "seto_cnt=0\n",
    "\n",
    "for i in pwid_seto['p_wid']:\n",
    "    if (i<seto_pre).bool():\n",
    "        seto_cnt+=1\n",
    "    elif (i>seto_back).bool():\n",
    "        seto_cnt+=1\n",
    "print(\"Iris-Setosa petal_width cost: \", seto_cnt)\n",
    "\n",
    "ver_u=pwid_ver.mean()\n",
    "ver_sigma=math.sqrt(pwid_ver.var())\n",
    "ver_pre=ver_u-ver_sigma\n",
    "ver_back=ver_u+ver_sigma\n",
    "ver_cnt=0\n",
    "for i in pwid_ver['p_wid']:\n",
    "    if (i<ver_pre).bool():\n",
    "        ver_cnt+=1\n",
    "    elif (i>ver_back).bool():\n",
    "        ver_cnt+=1\n",
    "print(\"Iris-Versicolour petal_width cost: \", ver_cnt)\n",
    "\n",
    "\n",
    "vir_u=pwid_vir.mean()\n",
    "vir_sigma=math.sqrt(pwid_vir.var())\n",
    "vir_pre=vir_u-vir_sigma\n",
    "vir_back=vir_u+vir_sigma\n",
    "vir_cnt=0\n",
    "for i in pwid_vir['p_wid']:\n",
    "    if (i<vir_pre).bool():\n",
    "        vir_cnt+=1\n",
    "    elif (i>vir_back).bool():\n",
    "        vir_cnt+=1\n",
    "print(\"Iris-Virginica petal_width cost: \", vir_cnt)\n"
   ]
  },
  {
   "cell_type": "code",
   "execution_count": 118,
   "id": "9015c4f8",
   "metadata": {},
   "outputs": [
    {
     "name": "stdout",
     "output_type": "stream",
     "text": [
      "s_len    0.465\n",
      "dtype: float64 s_wid    0.324\n",
      "dtype: float64\n"
     ]
    },
    {
     "data": {
      "image/png": "[encoded data removed]",
      "text/plain": [
       "<Figure size 432x288 with 1 Axes>"
      ]
     },
     "metadata": {
      "needs_background": "light"
     },
     "output_type": "display_data"
    }
   ],
   "source": [
    "#B question2) (1) sepal length, sepal width\n",
    "x_seto1 = seto[['s_len']]\n",
    "y_seto1 = seto[['s_wid']]\n",
    "seto_ux = x_seto1.mean()\n",
    "seto_uy = y_seto1.mean()\n",
    "x_ver1 = ver[['s_len']]\n",
    "y_ver1 = ver[['s_wid']]\n",
    "ver_ux = x_ver1.mean()\n",
    "ver_uy = y_ver1.mean()\n",
    "x_vir1 = vir[['s_len']]\n",
    "y_vir1 = vir[['s_wid']]\n",
    "vir_ux = x_vir1.mean()\n",
    "vir_uy = y_vir1.mean()\n",
    "plt.scatter(x_seto1,y_seto1,s=20,c='red',alpha=0.3)\n",
    "plt.scatter(x_ver1,y_ver1,s=20,c='green',alpha=0.3)\n",
    "plt.scatter(x_vir1,y_vir1,s=20,c='blue',alpha=0.3)\n",
    "plt.xlabel('sepal length')\n",
    "plt.ylabel('sepal width')\n",
    "type(x_seto1)\n",
    "type(x_seto1.to_numpy())\n",
    "\n",
    "x_seto1=np.ravel(x_seto1.to_numpy(),order='C') # 1차원 배열로 바꿈\n",
    "y_seto1=np.ravel(y_seto1.to_numpy(),order='C')\n",
    "\n",
    "x_ver1=np.ravel(x_ver1.to_numpy(),order='C')\n",
    "y_ver1=np.ravel(y_ver1.to_numpy(),order='C')\n",
    "\n",
    "x_vir1=np.ravel(x_vir1.to_numpy(),order='C')\n",
    "y_vir1=np.ravel(y_vir1.to_numpy(),order='C')\n",
    "# red green\n",
    "yellow_x = abs(seto_ux-ver_ux)/2\n",
    "yellow_y = abs(seto_uy-ver_uy)/2\n",
    "print(yellow_x,yellow_y)\n",
    "#plt.plot()"
   ]
  },
  {
   "cell_type": "code",
   "execution_count": 16,
   "id": "1d458139",
   "metadata": {},
   "outputs": [
    {
     "data": {
      "text/plain": [
       "Text(0, 0.5, 'petal length')"
      ]
     },
     "execution_count": 16,
     "metadata": {},
     "output_type": "execute_result"
    },
    {
     "data": {
      "image/png": "[encoded data removed]",
      "text/plain": [
       "<Figure size 432x288 with 1 Axes>"
      ]
     },
     "metadata": {
      "needs_background": "light"
     },
     "output_type": "display_data"
    }
   ],
   "source": [
    "#B question2) (2) sepal length, petal length\n",
    "y_seto2 = seto[['p_len']]\n",
    "y_ver2 = ver[['p_len']]\n",
    "y_vir2 = vir[['p_len']]\n",
    "plt.scatter(x_seto1,y_seto2,s=20,c='red',alpha=0.3)\n",
    "plt.scatter(x_ver1,y_ver2,s=20,c='green',alpha=0.3)\n",
    "plt.scatter(x_vir1,y_vir2,s=20,c='blue',alpha=0.3)\n",
    "plt.xlabel('sepal length')\n",
    "plt.ylabel('petal length')"
   ]
  },
  {
   "cell_type": "code",
   "execution_count": 17,
   "id": "2e1f4881",
   "metadata": {},
   "outputs": [
    {
     "data": {
      "text/plain": [
       "Text(0, 0.5, 'petal width')"
      ]
     },
     "execution_count": 17,
     "metadata": {},
     "output_type": "execute_result"
    },
    {
     "data": {
      "image/png": "[encoded data removed]",
      "text/plain": [
       "<Figure size 432x288 with 1 Axes>"
      ]
     },
     "metadata": {
      "needs_background": "light"
     },
     "output_type": "display_data"
    }
   ],
   "source": [
    "#B question2) (3) sepal length, petal width\n",
    "y_seto3 = seto[['p_wid']]\n",
    "y_ver3 = ver[['p_wid']]\n",
    "y_vir3 = vir[['p_wid']]\n",
    "plt.scatter(x_seto1,y_seto3,s=20,c='red',alpha=0.3)\n",
    "plt.scatter(x_ver1,y_ver3,s=20,c='green',alpha=0.3)\n",
    "plt.scatter(x_vir1,y_vir3,s=20,c='blue',alpha=0.3)\n",
    "plt.xlabel('sepal length')\n",
    "plt.ylabel('petal width')"
   ]
  },
  {
   "cell_type": "code",
   "execution_count": 18,
   "id": "8fabd7fd",
   "metadata": {},
   "outputs": [
    {
     "data": {
      "text/plain": [
       "Text(0, 0.5, 'petal length')"
      ]
     },
     "execution_count": 18,
     "metadata": {},
     "output_type": "execute_result"
    },
    {
     "data": {
      "image/png": "[encoded data removed]",
      "text/plain": [
       "<Figure size 432x288 with 1 Axes>"
      ]
     },
     "metadata": {
      "needs_background": "light"
     },
     "output_type": "display_data"
    }
   ],
   "source": [
    "#B question2) (4) sepal width, petal length\n",
    "x_seto2 = seto[['s_wid']]\n",
    "x_ver2 = ver[['s_wid']]\n",
    "x_vir2 = vir[['s_wid']]\n",
    "plt.scatter(x_seto2,y_seto2,s=20,c='red',alpha=0.3)\n",
    "plt.scatter(x_ver2,y_ver2,s=20,c='green',alpha=0.3)\n",
    "plt.scatter(x_vir2,y_vir2,s=20,c='blue',alpha=0.3)\n",
    "plt.xlabel('sepal width')\n",
    "plt.ylabel('petal length')"
   ]
  },
  {
   "cell_type": "code",
   "execution_count": 19,
   "id": "a1a86cba",
   "metadata": {},
   "outputs": [
    {
     "data": {
      "text/plain": [
       "Text(0, 0.5, 'petal width')"
      ]
     },
     "execution_count": 19,
     "metadata": {},
     "output_type": "execute_result"
    },
    {
     "data": {
      "image/png": "[encoded data removed]",
      "text/plain": [
       "<Figure size 432x288 with 1 Axes>"
      ]
     },
     "metadata": {
      "needs_background": "light"
     },
     "output_type": "display_data"
    }
   ],
   "source": [
    "#B question2) (5) sepal width, petal width\n",
    "plt.scatter(x_seto2,y_seto3,s=20,c='red',alpha=0.3)\n",
    "plt.scatter(x_ver2,y_ver3,s=20,c='green',alpha=0.3)\n",
    "plt.scatter(x_vir2,y_vir3,s=20,c='blue',alpha=0.3)\n",
    "plt.xlabel('sepal width')\n",
    "plt.ylabel('petal width')"
   ]
  },
  {
   "cell_type": "code",
   "execution_count": 20,
   "id": "52a3ddb5",
   "metadata": {},
   "outputs": [
    {
     "data": {
      "text/plain": [
       "Text(0, 0.5, 'petal width')"
      ]
     },
     "execution_count": 20,
     "metadata": {},
     "output_type": "execute_result"
    },
    {
     "data": {
      "image/png": "[encoded data removed]",
      "text/plain": [
       "<Figure size 432x288 with 1 Axes>"
      ]
     },
     "metadata": {
      "needs_background": "light"
     },
     "output_type": "display_data"
    }
   ],
   "source": [
    "#B question2) (6) petal length, petal width\n",
    "x_seto3 = seto[['p_len']]\n",
    "x_ver3 = ver[['p_len']]\n",
    "x_vir3 = vir[['p_len']]\n",
    "plt.scatter(x_seto3,y_seto3,s=20,c='red',alpha=0.3)\n",
    "plt.scatter(x_ver3,y_ver3,s=20,c='green',alpha=0.3)\n",
    "plt.scatter(x_vir3,y_vir3,s=20,c='blue',alpha=0.3)\n",
    "plt.xlabel('petal length')\n",
    "plt.ylabel('petal width')"
   ]
  },
  {
   "cell_type": "code",
   "execution_count": 21,
   "id": "f55f0964",
   "metadata": {},
   "outputs": [
    {
     "ename": "InvalidIndexError",
     "evalue": "(slice(None, None, None), None)",
     "output_type": "error",
     "traceback": [
      "\u001b[1;31m---------------------------------------------------------------------------\u001b[0m",
      "\u001b[1;31mTypeError\u001b[0m                                 Traceback (most recent call last)",
      "File \u001b[1;32mC:\\ProgramData\\Anaconda3\\lib\\site-packages\\pandas\\core\\indexes\\base.py:3621\u001b[0m, in \u001b[0;36mIndex.get_loc\u001b[1;34m(self, key, method, tolerance)\u001b[0m\n\u001b[0;32m   3620\u001b[0m \u001b[38;5;28;01mtry\u001b[39;00m:\n\u001b[1;32m-> 3621\u001b[0m     \u001b[38;5;28;01mreturn\u001b[39;00m \u001b[38;5;28;43mself\u001b[39;49m\u001b[38;5;241;43m.\u001b[39;49m\u001b[43m_engine\u001b[49m\u001b[38;5;241;43m.\u001b[39;49m\u001b[43mget_loc\u001b[49m\u001b[43m(\u001b[49m\u001b[43mcasted_key\u001b[49m\u001b[43m)\u001b[49m\n\u001b[0;32m   3622\u001b[0m \u001b[38;5;28;01mexcept\u001b[39;00m \u001b[38;5;167;01mKeyError\u001b[39;00m \u001b[38;5;28;01mas\u001b[39;00m err:\n",
      "File \u001b[1;32mC:\\ProgramData\\Anaconda3\\lib\\site-packages\\pandas\\_libs\\index.pyx:136\u001b[0m, in \u001b[0;36mpandas._libs.index.IndexEngine.get_loc\u001b[1;34m()\u001b[0m\n",
      "File \u001b[1;32mC:\\ProgramData\\Anaconda3\\lib\\site-packages\\pandas\\_libs\\index.pyx:142\u001b[0m, in \u001b[0;36mpandas._libs.index.IndexEngine.get_loc\u001b[1;34m()\u001b[0m\n",
      "\u001b[1;31mTypeError\u001b[0m: '(slice(None, None, None), None)' is an invalid key",
      "\nDuring handling of the above exception, another exception occurred:\n",
      "\u001b[1;31mInvalidIndexError\u001b[0m                         Traceback (most recent call last)",
      "Input \u001b[1;32mIn [21]\u001b[0m, in \u001b[0;36m<cell line: 6>\u001b[1;34m()\u001b[0m\n\u001b[0;32m      4\u001b[0m a0,a1 \u001b[38;5;241m=\u001b[39m np\u001b[38;5;241m.\u001b[39mpolyfit(x_seto2_vrow,y_seto3_vrow,\u001b[38;5;241m1\u001b[39m) \u001b[38;5;66;03m# 절편과 기울기 반환\u001b[39;00m\n\u001b[0;32m      5\u001b[0m plt\u001b[38;5;241m.\u001b[39mscatter(x_seto2,y_seto3,s\u001b[38;5;241m=\u001b[39m\u001b[38;5;241m20\u001b[39m,c\u001b[38;5;241m=\u001b[39m\u001b[38;5;124m'\u001b[39m\u001b[38;5;124mred\u001b[39m\u001b[38;5;124m'\u001b[39m,alpha\u001b[38;5;241m=\u001b[39m\u001b[38;5;241m0.3\u001b[39m)\n\u001b[1;32m----> 6\u001b[0m \u001b[43mplt\u001b[49m\u001b[38;5;241;43m.\u001b[39;49m\u001b[43mplot\u001b[49m\u001b[43m(\u001b[49m\u001b[43mx_seto2\u001b[49m\u001b[43m,\u001b[49m\u001b[43ma0\u001b[49m\u001b[38;5;241;43m+\u001b[39;49m\u001b[43ma1\u001b[49m\u001b[38;5;241;43m*\u001b[39;49m\u001b[43mx_seto2\u001b[49m\u001b[43m,\u001b[49m\u001b[43mcolor\u001b[49m\u001b[38;5;241;43m=\u001b[39;49m\u001b[38;5;124;43m'\u001b[39;49m\u001b[38;5;124;43myellow\u001b[39;49m\u001b[38;5;124;43m'\u001b[39;49m\u001b[43m)\u001b[49m\n\u001b[0;32m      7\u001b[0m plt\u001b[38;5;241m.\u001b[39mscatter(x_ver2,y_ver3,s\u001b[38;5;241m=\u001b[39m\u001b[38;5;241m20\u001b[39m,c\u001b[38;5;241m=\u001b[39m\u001b[38;5;124m'\u001b[39m\u001b[38;5;124mgreen\u001b[39m\u001b[38;5;124m'\u001b[39m,alpha\u001b[38;5;241m=\u001b[39m\u001b[38;5;241m0.3\u001b[39m)\n\u001b[0;32m      8\u001b[0m plt\u001b[38;5;241m.\u001b[39mscatter(x_vir2,y_vir3,s\u001b[38;5;241m=\u001b[39m\u001b[38;5;241m20\u001b[39m,c\u001b[38;5;241m=\u001b[39m\u001b[38;5;124m'\u001b[39m\u001b[38;5;124mblue\u001b[39m\u001b[38;5;124m'\u001b[39m,alpha\u001b[38;5;241m=\u001b[39m\u001b[38;5;241m0.3\u001b[39m)\n",
      "File \u001b[1;32mC:\\ProgramData\\Anaconda3\\lib\\site-packages\\matplotlib\\pyplot.py:2757\u001b[0m, in \u001b[0;36mplot\u001b[1;34m(scalex, scaley, data, *args, **kwargs)\u001b[0m\n\u001b[0;32m   2755\u001b[0m \u001b[38;5;129m@_copy_docstring_and_deprecators\u001b[39m(Axes\u001b[38;5;241m.\u001b[39mplot)\n\u001b[0;32m   2756\u001b[0m \u001b[38;5;28;01mdef\u001b[39;00m \u001b[38;5;21mplot\u001b[39m(\u001b[38;5;241m*\u001b[39margs, scalex\u001b[38;5;241m=\u001b[39m\u001b[38;5;28;01mTrue\u001b[39;00m, scaley\u001b[38;5;241m=\u001b[39m\u001b[38;5;28;01mTrue\u001b[39;00m, data\u001b[38;5;241m=\u001b[39m\u001b[38;5;28;01mNone\u001b[39;00m, \u001b[38;5;241m*\u001b[39m\u001b[38;5;241m*\u001b[39mkwargs):\n\u001b[1;32m-> 2757\u001b[0m     \u001b[38;5;28;01mreturn\u001b[39;00m gca()\u001b[38;5;241m.\u001b[39mplot(\n\u001b[0;32m   2758\u001b[0m         \u001b[38;5;241m*\u001b[39margs, scalex\u001b[38;5;241m=\u001b[39mscalex, scaley\u001b[38;5;241m=\u001b[39mscaley,\n\u001b[0;32m   2759\u001b[0m         \u001b[38;5;241m*\u001b[39m\u001b[38;5;241m*\u001b[39m({\u001b[38;5;124m\"\u001b[39m\u001b[38;5;124mdata\u001b[39m\u001b[38;5;124m\"\u001b[39m: data} \u001b[38;5;28;01mif\u001b[39;00m data \u001b[38;5;129;01mis\u001b[39;00m \u001b[38;5;129;01mnot\u001b[39;00m \u001b[38;5;28;01mNone\u001b[39;00m \u001b[38;5;28;01melse\u001b[39;00m {}), \u001b[38;5;241m*\u001b[39m\u001b[38;5;241m*\u001b[39mkwargs)\n",
      "File \u001b[1;32mC:\\ProgramData\\Anaconda3\\lib\\site-packages\\matplotlib\\axes\\_axes.py:1632\u001b[0m, in \u001b[0;36mAxes.plot\u001b[1;34m(self, scalex, scaley, data, *args, **kwargs)\u001b[0m\n\u001b[0;32m   1390\u001b[0m \u001b[38;5;124;03m\"\"\"\u001b[39;00m\n\u001b[0;32m   1391\u001b[0m \u001b[38;5;124;03mPlot y versus x as lines and/or markers.\u001b[39;00m\n\u001b[0;32m   1392\u001b[0m \n\u001b[1;32m   (...)\u001b[0m\n\u001b[0;32m   1629\u001b[0m \u001b[38;5;124;03m(``'green'``) or hex strings (``'#008000'``).\u001b[39;00m\n\u001b[0;32m   1630\u001b[0m \u001b[38;5;124;03m\"\"\"\u001b[39;00m\n\u001b[0;32m   1631\u001b[0m kwargs \u001b[38;5;241m=\u001b[39m cbook\u001b[38;5;241m.\u001b[39mnormalize_kwargs(kwargs, mlines\u001b[38;5;241m.\u001b[39mLine2D)\n\u001b[1;32m-> 1632\u001b[0m lines \u001b[38;5;241m=\u001b[39m [\u001b[38;5;241m*\u001b[39m\u001b[38;5;28mself\u001b[39m\u001b[38;5;241m.\u001b[39m_get_lines(\u001b[38;5;241m*\u001b[39margs, data\u001b[38;5;241m=\u001b[39mdata, \u001b[38;5;241m*\u001b[39m\u001b[38;5;241m*\u001b[39mkwargs)]\n\u001b[0;32m   1633\u001b[0m \u001b[38;5;28;01mfor\u001b[39;00m line \u001b[38;5;129;01min\u001b[39;00m lines:\n\u001b[0;32m   1634\u001b[0m     \u001b[38;5;28mself\u001b[39m\u001b[38;5;241m.\u001b[39madd_line(line)\n",
      "File \u001b[1;32mC:\\ProgramData\\Anaconda3\\lib\\site-packages\\matplotlib\\axes\\_base.py:312\u001b[0m, in \u001b[0;36m_process_plot_var_args.__call__\u001b[1;34m(self, data, *args, **kwargs)\u001b[0m\n\u001b[0;32m    310\u001b[0m     this \u001b[38;5;241m+\u001b[39m\u001b[38;5;241m=\u001b[39m args[\u001b[38;5;241m0\u001b[39m],\n\u001b[0;32m    311\u001b[0m     args \u001b[38;5;241m=\u001b[39m args[\u001b[38;5;241m1\u001b[39m:]\n\u001b[1;32m--> 312\u001b[0m \u001b[38;5;28;01myield from\u001b[39;00m \u001b[38;5;28;43mself\u001b[39;49m\u001b[38;5;241;43m.\u001b[39;49m\u001b[43m_plot_args\u001b[49m\u001b[43m(\u001b[49m\u001b[43mthis\u001b[49m\u001b[43m,\u001b[49m\u001b[43m \u001b[49m\u001b[43mkwargs\u001b[49m\u001b[43m)\u001b[49m\n",
      "File \u001b[1;32mC:\\ProgramData\\Anaconda3\\lib\\site-packages\\matplotlib\\axes\\_base.py:487\u001b[0m, in \u001b[0;36m_process_plot_var_args._plot_args\u001b[1;34m(self, tup, kwargs, return_kwargs)\u001b[0m\n\u001b[0;32m    484\u001b[0m         kw[prop_name] \u001b[38;5;241m=\u001b[39m val\n\u001b[0;32m    486\u001b[0m \u001b[38;5;28;01mif\u001b[39;00m \u001b[38;5;28mlen\u001b[39m(xy) \u001b[38;5;241m==\u001b[39m \u001b[38;5;241m2\u001b[39m:\n\u001b[1;32m--> 487\u001b[0m     x \u001b[38;5;241m=\u001b[39m \u001b[43m_check_1d\u001b[49m\u001b[43m(\u001b[49m\u001b[43mxy\u001b[49m\u001b[43m[\u001b[49m\u001b[38;5;241;43m0\u001b[39;49m\u001b[43m]\u001b[49m\u001b[43m)\u001b[49m\n\u001b[0;32m    488\u001b[0m     y \u001b[38;5;241m=\u001b[39m _check_1d(xy[\u001b[38;5;241m1\u001b[39m])\n\u001b[0;32m    489\u001b[0m \u001b[38;5;28;01melse\u001b[39;00m:\n",
      "File \u001b[1;32mC:\\ProgramData\\Anaconda3\\lib\\site-packages\\matplotlib\\cbook\\__init__.py:1327\u001b[0m, in \u001b[0;36m_check_1d\u001b[1;34m(x)\u001b[0m\n\u001b[0;32m   1321\u001b[0m \u001b[38;5;28;01mwith\u001b[39;00m warnings\u001b[38;5;241m.\u001b[39mcatch_warnings(record\u001b[38;5;241m=\u001b[39m\u001b[38;5;28;01mTrue\u001b[39;00m) \u001b[38;5;28;01mas\u001b[39;00m w:\n\u001b[0;32m   1322\u001b[0m     warnings\u001b[38;5;241m.\u001b[39mfilterwarnings(\n\u001b[0;32m   1323\u001b[0m         \u001b[38;5;124m\"\u001b[39m\u001b[38;5;124malways\u001b[39m\u001b[38;5;124m\"\u001b[39m,\n\u001b[0;32m   1324\u001b[0m         category\u001b[38;5;241m=\u001b[39m\u001b[38;5;167;01mWarning\u001b[39;00m,\n\u001b[0;32m   1325\u001b[0m         message\u001b[38;5;241m=\u001b[39m\u001b[38;5;124m'\u001b[39m\u001b[38;5;124mSupport for multi-dimensional indexing\u001b[39m\u001b[38;5;124m'\u001b[39m)\n\u001b[1;32m-> 1327\u001b[0m     ndim \u001b[38;5;241m=\u001b[39m \u001b[43mx\u001b[49m\u001b[43m[\u001b[49m\u001b[43m:\u001b[49m\u001b[43m,\u001b[49m\u001b[43m \u001b[49m\u001b[38;5;28;43;01mNone\u001b[39;49;00m\u001b[43m]\u001b[49m\u001b[38;5;241m.\u001b[39mndim\n\u001b[0;32m   1328\u001b[0m     \u001b[38;5;66;03m# we have definitely hit a pandas index or series object\u001b[39;00m\n\u001b[0;32m   1329\u001b[0m     \u001b[38;5;66;03m# cast to a numpy array.\u001b[39;00m\n\u001b[0;32m   1330\u001b[0m     \u001b[38;5;28;01mif\u001b[39;00m \u001b[38;5;28mlen\u001b[39m(w) \u001b[38;5;241m>\u001b[39m \u001b[38;5;241m0\u001b[39m:\n",
      "File \u001b[1;32mC:\\ProgramData\\Anaconda3\\lib\\site-packages\\pandas\\core\\frame.py:3505\u001b[0m, in \u001b[0;36mDataFrame.__getitem__\u001b[1;34m(self, key)\u001b[0m\n\u001b[0;32m   3503\u001b[0m \u001b[38;5;28;01mif\u001b[39;00m \u001b[38;5;28mself\u001b[39m\u001b[38;5;241m.\u001b[39mcolumns\u001b[38;5;241m.\u001b[39mnlevels \u001b[38;5;241m>\u001b[39m \u001b[38;5;241m1\u001b[39m:\n\u001b[0;32m   3504\u001b[0m     \u001b[38;5;28;01mreturn\u001b[39;00m \u001b[38;5;28mself\u001b[39m\u001b[38;5;241m.\u001b[39m_getitem_multilevel(key)\n\u001b[1;32m-> 3505\u001b[0m indexer \u001b[38;5;241m=\u001b[39m \u001b[38;5;28;43mself\u001b[39;49m\u001b[38;5;241;43m.\u001b[39;49m\u001b[43mcolumns\u001b[49m\u001b[38;5;241;43m.\u001b[39;49m\u001b[43mget_loc\u001b[49m\u001b[43m(\u001b[49m\u001b[43mkey\u001b[49m\u001b[43m)\u001b[49m\n\u001b[0;32m   3506\u001b[0m \u001b[38;5;28;01mif\u001b[39;00m is_integer(indexer):\n\u001b[0;32m   3507\u001b[0m     indexer \u001b[38;5;241m=\u001b[39m [indexer]\n",
      "File \u001b[1;32mC:\\ProgramData\\Anaconda3\\lib\\site-packages\\pandas\\core\\indexes\\base.py:3628\u001b[0m, in \u001b[0;36mIndex.get_loc\u001b[1;34m(self, key, method, tolerance)\u001b[0m\n\u001b[0;32m   3623\u001b[0m         \u001b[38;5;28;01mraise\u001b[39;00m \u001b[38;5;167;01mKeyError\u001b[39;00m(key) \u001b[38;5;28;01mfrom\u001b[39;00m \u001b[38;5;21;01merr\u001b[39;00m\n\u001b[0;32m   3624\u001b[0m     \u001b[38;5;28;01mexcept\u001b[39;00m \u001b[38;5;167;01mTypeError\u001b[39;00m:\n\u001b[0;32m   3625\u001b[0m         \u001b[38;5;66;03m# If we have a listlike key, _check_indexing_error will raise\u001b[39;00m\n\u001b[0;32m   3626\u001b[0m         \u001b[38;5;66;03m#  InvalidIndexError. Otherwise we fall through and re-raise\u001b[39;00m\n\u001b[0;32m   3627\u001b[0m         \u001b[38;5;66;03m#  the TypeError.\u001b[39;00m\n\u001b[1;32m-> 3628\u001b[0m         \u001b[38;5;28;43mself\u001b[39;49m\u001b[38;5;241;43m.\u001b[39;49m\u001b[43m_check_indexing_error\u001b[49m\u001b[43m(\u001b[49m\u001b[43mkey\u001b[49m\u001b[43m)\u001b[49m\n\u001b[0;32m   3629\u001b[0m         \u001b[38;5;28;01mraise\u001b[39;00m\n\u001b[0;32m   3631\u001b[0m \u001b[38;5;66;03m# GH#42269\u001b[39;00m\n",
      "File \u001b[1;32mC:\\ProgramData\\Anaconda3\\lib\\site-packages\\pandas\\core\\indexes\\base.py:5637\u001b[0m, in \u001b[0;36mIndex._check_indexing_error\u001b[1;34m(self, key)\u001b[0m\n\u001b[0;32m   5633\u001b[0m \u001b[38;5;28;01mdef\u001b[39;00m \u001b[38;5;21m_check_indexing_error\u001b[39m(\u001b[38;5;28mself\u001b[39m, key):\n\u001b[0;32m   5634\u001b[0m     \u001b[38;5;28;01mif\u001b[39;00m \u001b[38;5;129;01mnot\u001b[39;00m is_scalar(key):\n\u001b[0;32m   5635\u001b[0m         \u001b[38;5;66;03m# if key is not a scalar, directly raise an error (the code below\u001b[39;00m\n\u001b[0;32m   5636\u001b[0m         \u001b[38;5;66;03m# would convert to numpy arrays and raise later any way) - GH29926\u001b[39;00m\n\u001b[1;32m-> 5637\u001b[0m         \u001b[38;5;28;01mraise\u001b[39;00m InvalidIndexError(key)\n",
      "\u001b[1;31mInvalidIndexError\u001b[0m: (slice(None, None, None), None)"
     ]
    },
    {
     "data": {
      "image/png": "[encoded data removed]",
      "text/plain": [
       "<Figure size 432x288 with 1 Axes>"
      ]
     },
     "metadata": {
      "needs_background": "light"
     },
     "output_type": "display_data"
    }
   ],
   "source": [
    "#B quesition3) (sepal width, petal width)\n",
    "x_seto2_vrow = x_seto2.values.flatten()\n",
    "y_seto3_vrow = y_seto3.values.flatten()\n",
    "a0,a1 = np.polyfit(x_seto2_vrow,y_seto3_vrow,1) # 절편과 기울기 반환\n",
    "plt.scatter(x_seto2,y_seto3,s=20,c='red',alpha=0.3)\n",
    "plt.plot(x_seto2,a0+a1*x_seto2,color='yellow')\n",
    "plt.scatter(x_ver2,y_ver3,s=20,c='green',alpha=0.3)\n",
    "plt.scatter(x_vir2,y_vir3,s=20,c='blue',alpha=0.3)\n",
    "plt.xlabel('sepal width')\n",
    "plt.ylabel('petal width')"
   ]
  },
  {
   "cell_type": "code",
   "execution_count": null,
   "id": "ae111782",
   "metadata": {},
   "outputs": [],
   "source": [
    "val_x_seto2 = x_seto2.values\n",
    "val_x_seto2.flatten()"
   ]
  },
  {
   "cell_type": "code",
   "execution_count": null,
   "id": "934addd8",
   "metadata": {},
   "outputs": [],
   "source": [
    "x_seto2.values.flatten()"
   ]
  }
 ],
 "metadata": {
  "kernelspec": {
   "display_name": "Python 3 (ipykernel)",
   "language": "python",
   "name": "python3"
  },
  "language_info": {
   "codemirror_mode": {
    "name": "ipython",
    "version": 3
   },
   "file_extension": ".py",
   "mimetype": "text/x-python",
   "name": "python",
   "nbconvert_exporter": "python",
   "pygments_lexer": "ipython3",
   "version": "3.9.12"
  }
 },
 "nbformat": 4,
 "nbformat_minor": 5
}
